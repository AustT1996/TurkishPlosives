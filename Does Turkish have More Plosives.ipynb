{
 "cells": [
  {
   "cell_type": "markdown",
   "metadata": {},
   "source": [
    "# Introduction\n",
    "I've been learning Turkish for almost 4 weeks now, and I find the sound of the language quite harsh. I wanted to see if I could quantify the reason for this.\n",
    "\n",
    "My hypothesis is that Turkish sounds harsher because it has more plosive sounds- sounds like \"B\" and \"T\" that require you to shoot out a jet of air to say them. These sounds break the flow of a word, and could possibly contribute to a language sounding more jagged, and maybe harsher.\n",
    "\n",
    "# Methods\n",
    "I tried to resolve this experimentally: by taking samples of actual text, I will count the frequency of plosives in both languages and compare. Basically I am using a corpus method (instead of some more theoretical method).\n",
    "\n",
    "The English corpus I used is the nltk reuter's news corpus. For Turkish, since I don't know much of the language, I just used a Turkish corpus I found online (TS Corpus V_2 , at http://cqpweb.tscorpus.com/cqpweb/). Note that this accessing the corpus requires registering for an account (I am pretty sure).\n",
    "\n",
    "# Conclusions\n",
    "It is really hard to say if this is true. Counting overall plosives, English actually has **more** plosives than Turkish! This is because English uses the letters P and T **way** more than Turkish. This is the exact opposite of what I expected.\n",
    "\n",
    "On the other hand, if you count just plosives in the middle of a word, then Turkish beats English (taking into account that Turkish words are often longer than English words). This could explain why individual words in Turkish often sound kind of hard. But the difference is only a few percent on average, which means this difference might not be significant.\n",
    "\n",
    "**Overall conclusions**: Turkish does *not* use plosive sounds significantly more than English, although they are slightly more prominent in the middle of words than in English.\n",
    "\n",
    "# TODO for the future\n",
    "Compare plosives from other languages."
   ]
  },
  {
   "cell_type": "code",
   "execution_count": 1,
   "metadata": {
    "collapsed": true
   },
   "outputs": [],
   "source": [
    "# Imports\n",
    "import nltk\n",
    "import matplotlib.pyplot as plt\n",
    "import re\n",
    "import tabulate\n",
    "import csv\n",
    "import codecs\n",
    "import numpy as np"
   ]
  },
  {
   "cell_type": "markdown",
   "metadata": {},
   "source": [
    "# English Plosives\n",
    "Go into the reuter's corpus and count plosives"
   ]
  },
  {
   "cell_type": "code",
   "execution_count": 2,
   "metadata": {
    "collapsed": true
   },
   "outputs": [],
   "source": [
    "# Load corpus and set up plosive sounds\n",
    "from nltk.corpus import reuters\n",
    "cmu_entries = nltk.corpus.cmudict.entries()\n",
    "cmu_dict = dict(cmu_entries)\n",
    "plosive_sounds_en = list('BDGKPT') + ['JH', 'CH']"
   ]
  },
  {
   "cell_type": "code",
   "execution_count": 3,
   "metadata": {
    "collapsed": false
   },
   "outputs": [],
   "source": [
    "# Go through the reuters corpus and make a frequency distribution\n",
    "# of the different sounds\n",
    "en_phon_fd = nltk.FreqDist()\n",
    "for f_id in reuters.fileids():\n",
    "    words = reuters.words(f_id)\n",
    "    for w_upper in words:\n",
    "        w = w_upper.lower()\n",
    "        try:\n",
    "            phonemes = cmu_dict[w]\n",
    "            en_phon_fd.update(phonemes)\n",
    "        except KeyError:\n",
    "            pass"
   ]
  },
  {
   "cell_type": "code",
   "execution_count": 4,
   "metadata": {
    "collapsed": true
   },
   "outputs": [],
   "source": [
    "en_norm_freq = {key : value / en_phon_fd.N() for key, value in en_phon_fd.items()}"
   ]
  },
  {
   "cell_type": "code",
   "execution_count": 5,
   "metadata": {
    "collapsed": false
   },
   "outputs": [
    {
     "name": "stdout",
     "output_type": "stream",
     "text": [
      "-----  ------\n",
      "B      01.74%\n",
      "D      04.51%\n",
      "G      00.77%\n",
      "K      03.88%\n",
      "P      02.62%\n",
      "T      06.97%\n",
      "JH     00.64%\n",
      "CH     00.50%\n",
      "Total  21.64%\n",
      "-----  ------\n"
     ]
    }
   ],
   "source": [
    "# Tabulate the plosives\n",
    "fmt_str = \"{:0>5.2f}%\"\n",
    "en_table = [[ps, fmt_str.format(en_norm_freq[ps]*100)]\n",
    "         for ps in plosive_sounds_en]\n",
    "plosive_total = sum([en_norm_freq[ps] for ps in plosive_sounds_en])\n",
    "en_table.append([\"Total\", fmt_str.format(plosive_total*100)])\n",
    "print(tabulate.tabulate(en_table))"
   ]
  },
  {
   "cell_type": "markdown",
   "metadata": {},
   "source": [
    "# Turkish Plosives\n",
    "\n",
    "Link to text corpus resource: http://cqpweb.tscorpus.com/cqpweb/\n",
    "\n",
    "How I filterd the corpus:\n",
    "- removed all words with 1 use only\n",
    "- made all words lowercase (normalization)\n",
    "- removed most non-alphabetic words (punctuation, words with numbers/emojis, some Chinese/Arabic characters) (*wanted to remove them all but that was difficult, because some of the turkish letters had weird accents*)"
   ]
  },
  {
   "cell_type": "code",
   "execution_count": 6,
   "metadata": {
    "collapsed": true
   },
   "outputs": [],
   "source": [
    "tr_alphabet = \"A B C Ç D E F G Ğ H I İ J K L M N O Ö P R S Ş T U Ü V Y Z\".lower().split()\n",
    "tr_plosives = list(\"BCÇDGKPT\".lower())"
   ]
  },
  {
   "cell_type": "code",
   "execution_count": 7,
   "metadata": {
    "collapsed": false
   },
   "outputs": [],
   "source": [
    "# Load Turkish frequency list\n",
    "from collections import defaultdict\n",
    "with codecs.open('tr_freq_list.txt', 'r', 'UTF-8') as f:\n",
    "    reader = csv.reader(f)\n",
    "    tr_letter_fd = defaultdict(int)\n",
    "    for row in reader:\n",
    "        n = int(row[1])\n",
    "        for letter in row[0]:\n",
    "            tr_letter_fd[letter] = tr_letter_fd[letter] + n"
   ]
  },
  {
   "cell_type": "code",
   "execution_count": 8,
   "metadata": {
    "collapsed": false
   },
   "outputs": [
    {
     "name": "stdout",
     "output_type": "stream",
     "text": [
      "Percent of letters that are proper turkish: 94.99%\n"
     ]
    }
   ],
   "source": [
    "# Check to make sure that most of the words are proper turkish words\n",
    "turkish_total = 0\n",
    "for l in tr_alphabet:\n",
    "    turkish_total += tr_letter_fd[l]\n",
    "total_letters = sum([val for key, val in tr_letter_fd.items()])\n",
    "print(\"Percent of letters that are proper turkish: {:.2f}%\".format(turkish_total/total_letters*100))\n",
    "\n",
    "# Make normalized dictionary\n",
    "tr_norm_freq = {letter: freq/total_letters\n",
    "                for letter, freq in tr_letter_fd.items()\n",
    "               }"
   ]
  },
  {
   "cell_type": "code",
   "execution_count": 9,
   "metadata": {
    "collapsed": false
   },
   "outputs": [
    {
     "name": "stdout",
     "output_type": "stream",
     "text": [
      "-----  ------\n",
      "b      02.40%\n",
      "c      01.38%\n",
      "ç      00.72%\n",
      "d      04.12%\n",
      "g      01.60%\n",
      "k      04.64%\n",
      "p      00.91%\n",
      "t      03.58%\n",
      "Total  19.35%\n",
      "-----  ------\n"
     ]
    }
   ],
   "source": [
    "# Get the statistics on plosives\n",
    "fmt_str = \"{:0>5.2f}%\"\n",
    "tr_table = [[ps, fmt_str.format(tr_norm_freq[ps]*100)]\n",
    "         for ps in tr_plosives]\n",
    "plosive_total = sum([tr_norm_freq[ps] for ps in tr_plosives])\n",
    "tr_table.append([\"Total\", fmt_str.format(plosive_total*100)])\n",
    "print(tabulate.tabulate(tr_table))"
   ]
  },
  {
   "cell_type": "markdown",
   "metadata": {},
   "source": [
    "# Comparison of the Two"
   ]
  },
  {
   "cell_type": "code",
   "execution_count": 10,
   "metadata": {
    "collapsed": false
   },
   "outputs": [
    {
     "name": "stdout",
     "output_type": "stream",
     "text": [
      "Sound    En%     Tr_Equiv    Tr%\n",
      "-------  ------  ----------  ------\n",
      "B        01.74%  b           02.40%\n",
      "D        04.51%  d           04.12%\n",
      "G        00.77%  g           01.60%\n",
      "K        03.88%  k           04.64%\n",
      "P        02.62%  p           00.91%\n",
      "T        06.97%  t           03.58%\n",
      "JH       00.64%  c           01.38%\n",
      "CH       00.50%  ç           00.72%\n"
     ]
    }
   ],
   "source": [
    "en_tr_dict = {'B' : 'b', 'D': 'd', 'G': 'g', \"K\": 'k', \"P\": 'p', \"T\": 't', \"JH\": \"c\", \"CH\": \"ç\"}\n",
    "def plosive_comparison_table(en_plosive_sounds):\n",
    "    compare_table = [[ps, fmt_str.format(en_norm_freq[ps]*100), \n",
    "                      en_tr_dict[ps], fmt_str.format(tr_norm_freq[en_tr_dict[ps]]*100)] \n",
    "                     for ps in en_plosive_sounds]\n",
    "    print(tabulate.tabulate(compare_table, headers=\"Sound En% Tr_Equiv Tr%\".split()))\n",
    "plosive_comparison_table(plosive_sounds_en)"
   ]
  },
  {
   "cell_type": "code",
   "execution_count": 11,
   "metadata": {
    "collapsed": false
   },
   "outputs": [
    {
     "name": "stdout",
     "output_type": "stream",
     "text": [
      "Sound    En%     Tr_Equiv    Tr%\n",
      "-------  ------  ----------  ------\n",
      "P        02.62%  p           00.91%\n",
      "K        03.88%  k           04.64%\n",
      "T        06.97%  t           03.58%\n",
      "CH       00.50%  ç           00.72%\n"
     ]
    }
   ],
   "source": [
    "# Unvoiced\n",
    "plosive_comparison_table(list('PKT')+['CH'])"
   ]
  },
  {
   "cell_type": "code",
   "execution_count": 12,
   "metadata": {
    "collapsed": false
   },
   "outputs": [
    {
     "name": "stdout",
     "output_type": "stream",
     "text": [
      "Sound    En%     Tr_Equiv    Tr%\n",
      "-------  ------  ----------  ------\n",
      "B        01.74%  b           02.40%\n",
      "G        00.77%  g           01.60%\n",
      "D        04.51%  d           04.12%\n",
      "JH       00.64%  c           01.38%\n"
     ]
    }
   ],
   "source": [
    "# Voiced\n",
    "plosive_comparison_table(list('BGD')+['JH'])"
   ]
  },
  {
   "cell_type": "markdown",
   "metadata": {},
   "source": [
    "# Try comparing plosives in the middle of words under a certain number phonemes long\n",
    "Calculate a \"central plosive density\"- the average number of plosives in the middle of a word\n",
    "\n",
    "We have to limit the number of phonemes since turkish has hugely long words, so eventually Turkish's ratio will get very high just due to that.\n",
    "\n",
    "To measure this effect, I calculate the ratios limiting the number of phonemes to certain values, to see if the effect is robust at high and low values."
   ]
  },
  {
   "cell_type": "code",
   "execution_count": 13,
   "metadata": {
    "collapsed": true
   },
   "outputs": [],
   "source": [
    "def get_avg_plosive_density_en_tr(max_phoneme_length):\n",
    "    # Calculate plosive density for English\n",
    "    en_plosive_density_list = []\n",
    "    for f_id in reuters.fileids():\n",
    "        words = reuters.words(f_id)\n",
    "        for w_upper in words:\n",
    "            w = w_upper.lower()\n",
    "            try:\n",
    "                phonemes = cmu_dict[w]\n",
    "                if len(phonemes) < max_phoneme_length:\n",
    "                    p_count = 0\n",
    "                    for p in phonemes[1:-1]:\n",
    "                        if p in plosive_sounds_en:\n",
    "                            p_count += 1\n",
    "                    en_plosive_density_list.append(p_count/len(phonemes))\n",
    "            except KeyError:\n",
    "                pass\n",
    "    en_avg_plosive_density = np.average(en_plosive_density_list)\n",
    "\n",
    "    # Calculate plosive density for turkish\n",
    "    tr_plosive_density_list = []\n",
    "    tr_weights = []\n",
    "    with codecs.open('tr_freq_list.txt', 'r', 'UTF-8') as f:\n",
    "        reader = csv.reader(f)\n",
    "        tr_letter_fd = defaultdict(int)\n",
    "        for row in reader:\n",
    "            n = int(row[1])\n",
    "            word = row[0]\n",
    "            if len(word) < max_phoneme_length:\n",
    "                l_count = 0\n",
    "                for l in word[1:-1]:\n",
    "                    if l in tr_plosives:\n",
    "                        l_count += 1\n",
    "                tr_plosive_density_list.append(l_count/len(word))\n",
    "                tr_weights.append(n)\n",
    "    tr_avg_plosive_density = np.average(tr_plosive_density_list, weights=tr_weights)\n",
    "    \n",
    "    return en_avg_plosive_density, tr_avg_plosive_density"
   ]
  },
  {
   "cell_type": "code",
   "execution_count": 14,
   "metadata": {
    "collapsed": false
   },
   "outputs": [],
   "source": [
    "# Calculate for a few\n",
    "central_plosive_comparison_table = []\n",
    "for x in range(5, 17, 2):\n",
    "    central_plosive_comparison_table.append([x]+list(get_avg_plosive_density_en_tr(x)))"
   ]
  },
  {
   "cell_type": "code",
   "execution_count": 15,
   "metadata": {
    "collapsed": false
   },
   "outputs": [
    {
     "data": {
      "image/png": "[encoded data removed]",
      "text/plain": [
       "<matplotlib.figure.Figure at 0x1e9f639a240>"
      ]
     },
     "metadata": {},
     "output_type": "display_data"
    }
   ],
   "source": [
    "plt.plot([a[0] for a in central_plosive_comparison_table], [a[1] for a in central_plosive_comparison_table], label=\"EN\")\n",
    "plt.plot([a[0] for a in central_plosive_comparison_table], [a[2] for a in central_plosive_comparison_table], label=\"TR\")\n",
    "plt.legend()\n",
    "plt.title(\"Central Plosive Frequency as a function of word length\")\n",
    "plt.xlabel(\"Max Word Length\")\n",
    "plt.ylabel(\"Central plosive frequency\")\n",
    "plt.show()"
   ]
  }
 ],
 "metadata": {
  "kernelspec": {
   "display_name": "Python [conda env:py35]",
   "language": "python",
   "name": "conda-env-py35-py"
  },
  "language_info": {
   "codemirror_mode": {
    "name": "ipython",
    "version": 3
   },
   "file_extension": ".py",
   "mimetype": "text/x-python",
   "name": "python",
   "nbconvert_exporter": "python",
   "pygments_lexer": "ipython3",
   "version": "3.5.2"
  }
 },
 "nbformat": 4,
 "nbformat_minor": 2
}
